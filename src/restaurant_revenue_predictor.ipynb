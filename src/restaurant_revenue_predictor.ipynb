{
 "cells": [
  {
   "cell_type": "markdown",
   "metadata": {},
   "source": [
    "### Imports"
   ]
  },
  {
   "cell_type": "code",
   "execution_count": 547,
   "metadata": {},
   "outputs": [],
   "source": [
    "import statsmodels.api as sm\n",
    "import matplotlib.pyplot as plt\n",
    "import numpy as np\n",
    "import pandas as pd\n",
    "import scipy.stats as scs\n",
    "from pandas.plotting import scatter_matrix as scatter\n",
    "from statsmodels.stats.outliers_influence import variance_inflation_factor\n",
    "from sklearn.base import clone\n",
    "from sklearn.linear_model import LinearRegression, Ridge, Lasso\n",
    "from sklearn.model_selection import KFold\n",
    "from sklearn.model_selection import train_test_split\n",
    "from sklearn.model_selection import cross_val_score\n",
    "from sklearn.metrics import mean_squared_error as mse\n",
    "from sklearn import svm\n",
    "from sklearn.decomposition import PCA\n",
    "from sklearn.preprocessing import StandardScaler\n",
    "from utils import XyScaler\n",
    "\n",
    "%matplotlib inline"
   ]
  },
  {
   "cell_type": "markdown",
   "metadata": {},
   "source": [
    "### Data-prep Functions"
   ]
  },
  {
   "cell_type": "code",
   "execution_count": 463,
   "metadata": {
    "collapsed": true
   },
   "outputs": [],
   "source": [
    "def load_data(file_path):\n",
    "    df = pd.read_csv(file_path)\n",
    "    return df\n",
    "\n",
    "def load_pickle(file_path):\n",
    "    df = pd.read_pickle(file_path)\n",
    "    return df\n",
    "\n",
    "def clean_names(df):\n",
    "    temp_liz = [name.lower().replace(\" \",\"_\") for name in df.columns]\n",
    "    df.columns = temp_liz\n",
    "    return df\n",
    "\n",
    "def convert_dates(df, date_column, to_drop):\n",
    "    ''' Input -- Pandas series of strings: formatted as yyyy-mm-dd\n",
    "        Output -- Pandas series: integer number of days since the start of the data.\n",
    "    '''\n",
    "    old_column = date_column\n",
    "    date_column = pd.to_datetime(date_column)\n",
    "    df['date_delta'] = (date_column - date_column.min())  / np.timedelta64(1,'D')\n",
    "    df.drop(to_drop, axis=1, inplace=True)\n",
    "    return df\n",
    "\n",
    "def convert_to_dummies(df, list_of_categorical_columns):\n",
    "    ''' Input -- Pandas DataFrame\n",
    "        Input -- List of Pandas Series -- Categorical column to be dummied\n",
    "        Output -- DataFrame with the categorical column replaced with dummy columns\n",
    "    '''\n",
    "    for categorical_column in list_of_categorical_columns:\n",
    "        dummied_column = pd.get_dummies(df[categorical_column], prefix='cat', drop_first=True)\n",
    "        df = pd.concat([df, dummied_column], axis=1)\n",
    "        df.drop(categorical_column, axis=1, inplace=True)\n",
    "    return df"
   ]
  },
  {
   "cell_type": "code",
   "execution_count": 607,
   "metadata": {
    "collapsed": true
   },
   "outputs": [],
   "source": [
    "df = load_data('/Users/alanteran/galvanize/restaurant-revenue-prediction/data/train.csv')"
   ]
  },
  {
   "cell_type": "code",
   "execution_count": 609,
   "metadata": {},
   "outputs": [
    {
     "data": {
      "text/html": [
       "<div>\n",
       "<style>\n",
       "    .dataframe thead tr:only-child th {\n",
       "        text-align: right;\n",
       "    }\n",
       "\n",
       "    .dataframe thead th {\n",
       "        text-align: left;\n",
       "    }\n",
       "\n",
       "    .dataframe tbody tr th {\n",
       "        vertical-align: top;\n",
       "    }\n",
       "</style>\n",
       "<table border=\"1\" class=\"dataframe\">\n",
       "  <thead>\n",
       "    <tr style=\"text-align: right;\">\n",
       "      <th></th>\n",
       "      <th>Id</th>\n",
       "      <th>Open Date</th>\n",
       "      <th>City</th>\n",
       "      <th>City Group</th>\n",
       "      <th>Type</th>\n",
       "      <th>P1</th>\n",
       "      <th>P2</th>\n",
       "      <th>P3</th>\n",
       "      <th>P4</th>\n",
       "      <th>P5</th>\n",
       "      <th>...</th>\n",
       "      <th>P29</th>\n",
       "      <th>P30</th>\n",
       "      <th>P31</th>\n",
       "      <th>P32</th>\n",
       "      <th>P33</th>\n",
       "      <th>P34</th>\n",
       "      <th>P35</th>\n",
       "      <th>P36</th>\n",
       "      <th>P37</th>\n",
       "      <th>revenue</th>\n",
       "    </tr>\n",
       "  </thead>\n",
       "  <tbody>\n",
       "    <tr>\n",
       "      <th>0</th>\n",
       "      <td>0</td>\n",
       "      <td>07/17/1999</td>\n",
       "      <td>İstanbul</td>\n",
       "      <td>Big Cities</td>\n",
       "      <td>IL</td>\n",
       "      <td>4</td>\n",
       "      <td>5.0</td>\n",
       "      <td>4.0</td>\n",
       "      <td>4.0</td>\n",
       "      <td>2</td>\n",
       "      <td>...</td>\n",
       "      <td>3.0</td>\n",
       "      <td>5</td>\n",
       "      <td>3</td>\n",
       "      <td>4</td>\n",
       "      <td>5</td>\n",
       "      <td>5</td>\n",
       "      <td>4</td>\n",
       "      <td>3</td>\n",
       "      <td>4</td>\n",
       "      <td>5653753.0</td>\n",
       "    </tr>\n",
       "    <tr>\n",
       "      <th>1</th>\n",
       "      <td>1</td>\n",
       "      <td>02/14/2008</td>\n",
       "      <td>Ankara</td>\n",
       "      <td>Big Cities</td>\n",
       "      <td>FC</td>\n",
       "      <td>4</td>\n",
       "      <td>5.0</td>\n",
       "      <td>4.0</td>\n",
       "      <td>4.0</td>\n",
       "      <td>1</td>\n",
       "      <td>...</td>\n",
       "      <td>3.0</td>\n",
       "      <td>0</td>\n",
       "      <td>0</td>\n",
       "      <td>0</td>\n",
       "      <td>0</td>\n",
       "      <td>0</td>\n",
       "      <td>0</td>\n",
       "      <td>0</td>\n",
       "      <td>0</td>\n",
       "      <td>6923131.0</td>\n",
       "    </tr>\n",
       "    <tr>\n",
       "      <th>2</th>\n",
       "      <td>2</td>\n",
       "      <td>03/09/2013</td>\n",
       "      <td>Diyarbakır</td>\n",
       "      <td>Other</td>\n",
       "      <td>IL</td>\n",
       "      <td>2</td>\n",
       "      <td>4.0</td>\n",
       "      <td>2.0</td>\n",
       "      <td>5.0</td>\n",
       "      <td>2</td>\n",
       "      <td>...</td>\n",
       "      <td>3.0</td>\n",
       "      <td>0</td>\n",
       "      <td>0</td>\n",
       "      <td>0</td>\n",
       "      <td>0</td>\n",
       "      <td>0</td>\n",
       "      <td>0</td>\n",
       "      <td>0</td>\n",
       "      <td>0</td>\n",
       "      <td>2055379.0</td>\n",
       "    </tr>\n",
       "    <tr>\n",
       "      <th>3</th>\n",
       "      <td>3</td>\n",
       "      <td>02/02/2012</td>\n",
       "      <td>Tokat</td>\n",
       "      <td>Other</td>\n",
       "      <td>IL</td>\n",
       "      <td>6</td>\n",
       "      <td>4.5</td>\n",
       "      <td>6.0</td>\n",
       "      <td>6.0</td>\n",
       "      <td>4</td>\n",
       "      <td>...</td>\n",
       "      <td>7.5</td>\n",
       "      <td>25</td>\n",
       "      <td>12</td>\n",
       "      <td>10</td>\n",
       "      <td>6</td>\n",
       "      <td>18</td>\n",
       "      <td>12</td>\n",
       "      <td>12</td>\n",
       "      <td>6</td>\n",
       "      <td>2675511.0</td>\n",
       "    </tr>\n",
       "    <tr>\n",
       "      <th>4</th>\n",
       "      <td>4</td>\n",
       "      <td>05/09/2009</td>\n",
       "      <td>Gaziantep</td>\n",
       "      <td>Other</td>\n",
       "      <td>IL</td>\n",
       "      <td>3</td>\n",
       "      <td>4.0</td>\n",
       "      <td>3.0</td>\n",
       "      <td>4.0</td>\n",
       "      <td>2</td>\n",
       "      <td>...</td>\n",
       "      <td>3.0</td>\n",
       "      <td>5</td>\n",
       "      <td>1</td>\n",
       "      <td>3</td>\n",
       "      <td>2</td>\n",
       "      <td>3</td>\n",
       "      <td>4</td>\n",
       "      <td>3</td>\n",
       "      <td>3</td>\n",
       "      <td>4316715.0</td>\n",
       "    </tr>\n",
       "    <tr>\n",
       "      <th>5</th>\n",
       "      <td>5</td>\n",
       "      <td>02/12/2010</td>\n",
       "      <td>Ankara</td>\n",
       "      <td>Big Cities</td>\n",
       "      <td>FC</td>\n",
       "      <td>6</td>\n",
       "      <td>6.0</td>\n",
       "      <td>4.5</td>\n",
       "      <td>7.5</td>\n",
       "      <td>8</td>\n",
       "      <td>...</td>\n",
       "      <td>5.0</td>\n",
       "      <td>0</td>\n",
       "      <td>0</td>\n",
       "      <td>0</td>\n",
       "      <td>0</td>\n",
       "      <td>0</td>\n",
       "      <td>0</td>\n",
       "      <td>0</td>\n",
       "      <td>0</td>\n",
       "      <td>5017319.0</td>\n",
       "    </tr>\n",
       "    <tr>\n",
       "      <th>6</th>\n",
       "      <td>6</td>\n",
       "      <td>10/11/2010</td>\n",
       "      <td>İstanbul</td>\n",
       "      <td>Big Cities</td>\n",
       "      <td>IL</td>\n",
       "      <td>2</td>\n",
       "      <td>3.0</td>\n",
       "      <td>4.0</td>\n",
       "      <td>4.0</td>\n",
       "      <td>1</td>\n",
       "      <td>...</td>\n",
       "      <td>3.0</td>\n",
       "      <td>4</td>\n",
       "      <td>5</td>\n",
       "      <td>2</td>\n",
       "      <td>2</td>\n",
       "      <td>3</td>\n",
       "      <td>5</td>\n",
       "      <td>4</td>\n",
       "      <td>4</td>\n",
       "      <td>5166635.0</td>\n",
       "    </tr>\n",
       "    <tr>\n",
       "      <th>7</th>\n",
       "      <td>7</td>\n",
       "      <td>06/21/2011</td>\n",
       "      <td>İstanbul</td>\n",
       "      <td>Big Cities</td>\n",
       "      <td>IL</td>\n",
       "      <td>4</td>\n",
       "      <td>5.0</td>\n",
       "      <td>4.0</td>\n",
       "      <td>5.0</td>\n",
       "      <td>2</td>\n",
       "      <td>...</td>\n",
       "      <td>2.0</td>\n",
       "      <td>0</td>\n",
       "      <td>0</td>\n",
       "      <td>0</td>\n",
       "      <td>0</td>\n",
       "      <td>0</td>\n",
       "      <td>0</td>\n",
       "      <td>0</td>\n",
       "      <td>0</td>\n",
       "      <td>4491607.0</td>\n",
       "    </tr>\n",
       "    <tr>\n",
       "      <th>8</th>\n",
       "      <td>8</td>\n",
       "      <td>08/28/2010</td>\n",
       "      <td>Afyonkarahisar</td>\n",
       "      <td>Other</td>\n",
       "      <td>IL</td>\n",
       "      <td>1</td>\n",
       "      <td>1.0</td>\n",
       "      <td>4.0</td>\n",
       "      <td>4.0</td>\n",
       "      <td>1</td>\n",
       "      <td>...</td>\n",
       "      <td>3.0</td>\n",
       "      <td>4</td>\n",
       "      <td>5</td>\n",
       "      <td>5</td>\n",
       "      <td>3</td>\n",
       "      <td>4</td>\n",
       "      <td>5</td>\n",
       "      <td>4</td>\n",
       "      <td>5</td>\n",
       "      <td>4952497.0</td>\n",
       "    </tr>\n",
       "    <tr>\n",
       "      <th>9</th>\n",
       "      <td>9</td>\n",
       "      <td>11/16/2011</td>\n",
       "      <td>Edirne</td>\n",
       "      <td>Other</td>\n",
       "      <td>IL</td>\n",
       "      <td>6</td>\n",
       "      <td>4.5</td>\n",
       "      <td>6.0</td>\n",
       "      <td>7.5</td>\n",
       "      <td>6</td>\n",
       "      <td>...</td>\n",
       "      <td>2.5</td>\n",
       "      <td>0</td>\n",
       "      <td>0</td>\n",
       "      <td>0</td>\n",
       "      <td>0</td>\n",
       "      <td>0</td>\n",
       "      <td>0</td>\n",
       "      <td>0</td>\n",
       "      <td>0</td>\n",
       "      <td>5444227.0</td>\n",
       "    </tr>\n",
       "    <tr>\n",
       "      <th>10</th>\n",
       "      <td>10</td>\n",
       "      <td>08/09/2013</td>\n",
       "      <td>Kocaeli</td>\n",
       "      <td>Other</td>\n",
       "      <td>FC</td>\n",
       "      <td>9</td>\n",
       "      <td>6.0</td>\n",
       "      <td>6.0</td>\n",
       "      <td>6.0</td>\n",
       "      <td>4</td>\n",
       "      <td>...</td>\n",
       "      <td>2.5</td>\n",
       "      <td>0</td>\n",
       "      <td>0</td>\n",
       "      <td>0</td>\n",
       "      <td>0</td>\n",
       "      <td>0</td>\n",
       "      <td>0</td>\n",
       "      <td>0</td>\n",
       "      <td>0</td>\n",
       "      <td>3745135.0</td>\n",
       "    </tr>\n",
       "    <tr>\n",
       "      <th>11</th>\n",
       "      <td>11</td>\n",
       "      <td>05/22/2012</td>\n",
       "      <td>İstanbul</td>\n",
       "      <td>Big Cities</td>\n",
       "      <td>IL</td>\n",
       "      <td>2</td>\n",
       "      <td>4.0</td>\n",
       "      <td>4.0</td>\n",
       "      <td>4.0</td>\n",
       "      <td>2</td>\n",
       "      <td>...</td>\n",
       "      <td>3.0</td>\n",
       "      <td>5</td>\n",
       "      <td>5</td>\n",
       "      <td>4</td>\n",
       "      <td>2</td>\n",
       "      <td>3</td>\n",
       "      <td>4</td>\n",
       "      <td>4</td>\n",
       "      <td>2</td>\n",
       "      <td>5161370.0</td>\n",
       "    </tr>\n",
       "    <tr>\n",
       "      <th>12</th>\n",
       "      <td>12</td>\n",
       "      <td>02/28/2013</td>\n",
       "      <td>Ankara</td>\n",
       "      <td>Big Cities</td>\n",
       "      <td>IL</td>\n",
       "      <td>2</td>\n",
       "      <td>2.0</td>\n",
       "      <td>4.0</td>\n",
       "      <td>4.0</td>\n",
       "      <td>2</td>\n",
       "      <td>...</td>\n",
       "      <td>3.0</td>\n",
       "      <td>0</td>\n",
       "      <td>0</td>\n",
       "      <td>0</td>\n",
       "      <td>0</td>\n",
       "      <td>0</td>\n",
       "      <td>0</td>\n",
       "      <td>0</td>\n",
       "      <td>0</td>\n",
       "      <td>1734634.0</td>\n",
       "    </tr>\n",
       "    <tr>\n",
       "      <th>13</th>\n",
       "      <td>13</td>\n",
       "      <td>10/16/2010</td>\n",
       "      <td>İstanbul</td>\n",
       "      <td>Big Cities</td>\n",
       "      <td>FC</td>\n",
       "      <td>4</td>\n",
       "      <td>5.0</td>\n",
       "      <td>4.0</td>\n",
       "      <td>4.0</td>\n",
       "      <td>1</td>\n",
       "      <td>...</td>\n",
       "      <td>3.0</td>\n",
       "      <td>0</td>\n",
       "      <td>0</td>\n",
       "      <td>0</td>\n",
       "      <td>0</td>\n",
       "      <td>0</td>\n",
       "      <td>0</td>\n",
       "      <td>0</td>\n",
       "      <td>0</td>\n",
       "      <td>4807746.0</td>\n",
       "    </tr>\n",
       "    <tr>\n",
       "      <th>14</th>\n",
       "      <td>14</td>\n",
       "      <td>12/29/2011</td>\n",
       "      <td>Bursa</td>\n",
       "      <td>Other</td>\n",
       "      <td>FC</td>\n",
       "      <td>2</td>\n",
       "      <td>2.0</td>\n",
       "      <td>4.0</td>\n",
       "      <td>4.0</td>\n",
       "      <td>1</td>\n",
       "      <td>...</td>\n",
       "      <td>3.0</td>\n",
       "      <td>0</td>\n",
       "      <td>0</td>\n",
       "      <td>0</td>\n",
       "      <td>0</td>\n",
       "      <td>0</td>\n",
       "      <td>0</td>\n",
       "      <td>0</td>\n",
       "      <td>0</td>\n",
       "      <td>1999097.0</td>\n",
       "    </tr>\n",
       "  </tbody>\n",
       "</table>\n",
       "<p>15 rows × 43 columns</p>\n",
       "</div>"
      ],
      "text/plain": [
       "    Id   Open Date            City  City Group Type  P1   P2   P3   P4  P5  \\\n",
       "0    0  07/17/1999        İstanbul  Big Cities   IL   4  5.0  4.0  4.0   2   \n",
       "1    1  02/14/2008          Ankara  Big Cities   FC   4  5.0  4.0  4.0   1   \n",
       "2    2  03/09/2013      Diyarbakır       Other   IL   2  4.0  2.0  5.0   2   \n",
       "3    3  02/02/2012           Tokat       Other   IL   6  4.5  6.0  6.0   4   \n",
       "4    4  05/09/2009       Gaziantep       Other   IL   3  4.0  3.0  4.0   2   \n",
       "5    5  02/12/2010          Ankara  Big Cities   FC   6  6.0  4.5  7.5   8   \n",
       "6    6  10/11/2010        İstanbul  Big Cities   IL   2  3.0  4.0  4.0   1   \n",
       "7    7  06/21/2011        İstanbul  Big Cities   IL   4  5.0  4.0  5.0   2   \n",
       "8    8  08/28/2010  Afyonkarahisar       Other   IL   1  1.0  4.0  4.0   1   \n",
       "9    9  11/16/2011          Edirne       Other   IL   6  4.5  6.0  7.5   6   \n",
       "10  10  08/09/2013         Kocaeli       Other   FC   9  6.0  6.0  6.0   4   \n",
       "11  11  05/22/2012        İstanbul  Big Cities   IL   2  4.0  4.0  4.0   2   \n",
       "12  12  02/28/2013          Ankara  Big Cities   IL   2  2.0  4.0  4.0   2   \n",
       "13  13  10/16/2010        İstanbul  Big Cities   FC   4  5.0  4.0  4.0   1   \n",
       "14  14  12/29/2011           Bursa       Other   FC   2  2.0  4.0  4.0   1   \n",
       "\n",
       "      ...      P29  P30  P31  P32  P33  P34  P35  P36  P37    revenue  \n",
       "0     ...      3.0    5    3    4    5    5    4    3    4  5653753.0  \n",
       "1     ...      3.0    0    0    0    0    0    0    0    0  6923131.0  \n",
       "2     ...      3.0    0    0    0    0    0    0    0    0  2055379.0  \n",
       "3     ...      7.5   25   12   10    6   18   12   12    6  2675511.0  \n",
       "4     ...      3.0    5    1    3    2    3    4    3    3  4316715.0  \n",
       "5     ...      5.0    0    0    0    0    0    0    0    0  5017319.0  \n",
       "6     ...      3.0    4    5    2    2    3    5    4    4  5166635.0  \n",
       "7     ...      2.0    0    0    0    0    0    0    0    0  4491607.0  \n",
       "8     ...      3.0    4    5    5    3    4    5    4    5  4952497.0  \n",
       "9     ...      2.5    0    0    0    0    0    0    0    0  5444227.0  \n",
       "10    ...      2.5    0    0    0    0    0    0    0    0  3745135.0  \n",
       "11    ...      3.0    5    5    4    2    3    4    4    2  5161370.0  \n",
       "12    ...      3.0    0    0    0    0    0    0    0    0  1734634.0  \n",
       "13    ...      3.0    0    0    0    0    0    0    0    0  4807746.0  \n",
       "14    ...      3.0    0    0    0    0    0    0    0    0  1999097.0  \n",
       "\n",
       "[15 rows x 43 columns]"
      ]
     },
     "execution_count": 609,
     "metadata": {},
     "output_type": "execute_result"
    }
   ],
   "source": [
    "df.head(15)"
   ]
  },
  {
   "cell_type": "code",
   "execution_count": 466,
   "metadata": {},
   "outputs": [
    {
     "name": "stdout",
     "output_type": "stream",
     "text": [
      "<class 'pandas.core.frame.DataFrame'>\n",
      "RangeIndex: 137 entries, 0 to 136\n",
      "Data columns (total 53 columns):\n",
      "id            137 non-null int64\n",
      "city          137 non-null object\n",
      "p1            137 non-null int64\n",
      "p2            137 non-null float64\n",
      "p3            137 non-null float64\n",
      "p4            137 non-null float64\n",
      "p5            137 non-null int64\n",
      "p6            137 non-null int64\n",
      "p7            137 non-null int64\n",
      "p8            137 non-null int64\n",
      "p10           137 non-null int64\n",
      "p11           137 non-null int64\n",
      "p12           137 non-null int64\n",
      "p14           137 non-null int64\n",
      "p15           137 non-null int64\n",
      "p16           137 non-null int64\n",
      "p17           137 non-null int64\n",
      "p18           137 non-null int64\n",
      "p19           137 non-null int64\n",
      "p20           137 non-null int64\n",
      "p21           137 non-null int64\n",
      "p22           137 non-null int64\n",
      "p23           137 non-null int64\n",
      "p24           137 non-null int64\n",
      "p25           137 non-null int64\n",
      "p26           137 non-null float64\n",
      "p27           137 non-null float64\n",
      "p28           137 non-null float64\n",
      "p29           137 non-null float64\n",
      "p30           137 non-null int64\n",
      "p31           137 non-null int64\n",
      "p32           137 non-null int64\n",
      "p34           137 non-null int64\n",
      "p35           137 non-null int64\n",
      "p36           137 non-null int64\n",
      "p37           137 non-null int64\n",
      "revenue       137 non-null float64\n",
      "date_delta    137 non-null float64\n",
      "cat_fc        137 non-null uint8\n",
      "cat_il        137 non-null uint8\n",
      "cat_other     137 non-null uint8\n",
      "cat_5         137 non-null uint8\n",
      "cat_8         137 non-null uint8\n",
      "cat_10        137 non-null uint8\n",
      "cat_4.0       137 non-null uint8\n",
      "cat_5.0       137 non-null uint8\n",
      "cat_6.0       137 non-null uint8\n",
      "cat_7.5       137 non-null uint8\n",
      "cat_2         137 non-null uint8\n",
      "cat_3         137 non-null uint8\n",
      "cat_4         137 non-null uint8\n",
      "cat_5         137 non-null uint8\n",
      "cat_6         137 non-null uint8\n",
      "dtypes: float64(9), int64(28), object(1), uint8(15)\n",
      "memory usage: 42.8+ KB\n"
     ]
    }
   ],
   "source": [
    "df = load_data('/Users/alanteran/galvanize/restaurant-revenue-prediction/data/train.csv')\n",
    "df = clean_names(df)\n",
    "df = convert_dates(df, df['open_date'], 'open_date')\n",
    "df = convert_to_dummies(df, ['type', 'city_group'])\n",
    "df = clean_names(df)\n",
    "df = convert_to_dummies(df, ['p9', 'p13', 'p33'])\n",
    "## df.info()\n",
    "# df = df.query('revenue < 9560042.76')\n",
    "# df = load_pickle('/Users/alanteran/galvanize/restaurant-revenue-prediction/src/dropped_influencers_and_vifs.pkl')\n",
    "## df.to_pickle('Alans_df.pkl')\n",
    "df.info()"
   ]
  },
  {
   "cell_type": "code",
   "execution_count": 433,
   "metadata": {},
   "outputs": [],
   "source": [
    "# print(\"p9 has {} unique values\".format(len(df.p9.unique())))\n",
    "# print(\"p13 has {} unique values\".format(len(df.p13.unique())))\n",
    "# print(\"p33 has {} unique values\".format(len(df.p33.unique())))"
   ]
  },
  {
   "cell_type": "markdown",
   "metadata": {},
   "source": [
    "### Split Data"
   ]
  },
  {
   "cell_type": "code",
   "execution_count": 434,
   "metadata": {},
   "outputs": [],
   "source": [
    "# cities = df.pop('city')\n",
    "# idee = df.pop('id')\n",
    "y = df.pop('revenue')\n",
    "X = df"
   ]
  },
  {
   "cell_type": "code",
   "execution_count": 435,
   "metadata": {
    "collapsed": true
   },
   "outputs": [],
   "source": [
    "# X = PCA(whiten=True, n_components=15).fit_transform(X)"
   ]
  },
  {
   "cell_type": "code",
   "execution_count": 423,
   "metadata": {},
   "outputs": [],
   "source": [
    "# np.std(y)\n",
    "# mean_y = np.mean(y)\n",
    "# three_stds = np.std(y)*3\n",
    "# print(mean_y)\n",
    "# print(three_stds)\n",
    "# print(mean_y+three_stds)\n",
    "# print(mean_y-three_stds)\n",
    "# # y = y[y< mean_y+three_stds]"
   ]
  },
  {
   "cell_type": "code",
   "execution_count": 472,
   "metadata": {
    "collapsed": true
   },
   "outputs": [],
   "source": [
    "def get_vifs(df):\n",
    "    '''\n",
    "    Input -- Pandas DataFrame, calculates the vifs for each variable in the DataFrame.\n",
    "    Returns list of tuples: (column name, vif value)\n",
    "    '''\n",
    "    vifs = []\n",
    "    cols = df.columns\n",
    "    for index in range(df.shape[1]):\n",
    "        vifs.append(round(variance_inflation_factor(df.values, index),2))\n",
    "    return [(column, vif) for column, vif in zip(cols, vifs)]"
   ]
  },
  {
   "cell_type": "code",
   "execution_count": 473,
   "metadata": {},
   "outputs": [
    {
     "name": "stderr",
     "output_type": "stream",
     "text": [
      "/Users/alanteran/anaconda3/lib/python3.6/site-packages/statsmodels/stats/outliers_influence.py:167: RuntimeWarning: divide by zero encountered in double_scalars\n",
      "  vif = 1. / (1. - r_squared_i)\n",
      "/Users/alanteran/anaconda3/lib/python3.6/site-packages/statsmodels/regression/linear_model.py:1386: RuntimeWarning: invalid value encountered in double_scalars\n",
      "  return 1 - self.ssr/self.centered_tss\n"
     ]
    },
    {
     "data": {
      "text/plain": [
       "[('date_delta', 1.3700000000000001),\n",
       " ('cat_other', 1.9399999999999999),\n",
       " ('p22', 2.0299999999999998),\n",
       " ('cat_5', 2.75),\n",
       " ('p2', 2.9399999999999999),\n",
       " ('p6', 3.4100000000000001),\n",
       " ('p4', 3.4300000000000002),\n",
       " ('p29', 3.4700000000000002),\n",
       " ('p17', 5.6600000000000001),\n",
       " ('p28', 5.6799999999999997),\n",
       " ('p23', 5.71),\n",
       " ('p11', 5.8899999999999997),\n",
       " ('p26', 6.1699999999999999),\n",
       " ('p37', 6.96),\n",
       " ('p27', 7.9299999999999997),\n",
       " ('p15', 10.41),\n",
       " ('p31', 13.630000000000001),\n",
       " ('cat_4', 15.93),\n",
       " ('p8', 16.600000000000001),\n",
       " ('p16', 22.219999999999999),\n",
       " ('p35', 25.780000000000001),\n",
       " ('p18', 30.859999999999999),\n",
       " ('cat_3', 32.759999999999998),\n",
       " ('p30', 33.890000000000001),\n",
       " ('cat_2', 35.579999999999998),\n",
       " ('p32', 36.409999999999997),\n",
       " ('cat_fc', inf),\n",
       " ('cat_il', inf),\n",
       " ('cat_8', inf),\n",
       " ('cat_10', inf),\n",
       " ('cat_4_0', inf),\n",
       " ('cat_5_0', inf),\n",
       " ('cat_6_0', inf),\n",
       " ('cat_7_5', inf),\n",
       " ('cat_5', nan),\n",
       " ('cat_6', nan)]"
      ]
     },
     "execution_count": 473,
     "metadata": {},
     "output_type": "execute_result"
    }
   ],
   "source": [
    "vifs = get_vifs(X)\n",
    "vifs.sort(key= lambda x:x[1])\n",
    "vifs"
   ]
  },
  {
   "cell_type": "code",
   "execution_count": 474,
   "metadata": {
    "collapsed": true
   },
   "outputs": [],
   "source": [
    "def plot_vifs(df):\n",
    "    sorted_vifs = sorted(get_vifs(df), key=lambda x:x[1])\n",
    "    N = len(sorted_vifs)\n",
    "    features_sorted= []\n",
    "    vifs_sorted= []\n",
    "    for elem in sorted_vifs:\n",
    "        features_sorted.append(elem[0])\n",
    "        vifs_sorted.append(elem[1])\n",
    "    features_sorted.reverse()\n",
    "    vifs_sorted.reverse()\n",
    "\n",
    "    ind = np.arange(N)\n",
    "    width = 0.35\n",
    "    fig, ax = plt.subplots(figsize=(10,4))\n",
    "    rects1 = ax.bar(ind, vifs_sorted, width, color='r')\n",
    "\n",
    "    ax.set_ylabel('Variance Inflation Factor')\n",
    "    ax.set_title('Distribution of VIFs')\n",
    "    ax.set_xticks(ind + width)\n",
    "    ax.set_xticklabels(features_sorted, rotation='90')\n",
    "    ax.axhline(10, color='blue')\n",
    "\n",
    "    return plt.show()"
   ]
  },
  {
   "cell_type": "code",
   "execution_count": 475,
   "metadata": {},
   "outputs": [
    {
     "name": "stderr",
     "output_type": "stream",
     "text": [
      "/Users/alanteran/anaconda3/lib/python3.6/site-packages/statsmodels/stats/outliers_influence.py:167: RuntimeWarning: divide by zero encountered in double_scalars\n",
      "  vif = 1. / (1. - r_squared_i)\n",
      "/Users/alanteran/anaconda3/lib/python3.6/site-packages/statsmodels/regression/linear_model.py:1386: RuntimeWarning: invalid value encountered in double_scalars\n",
      "  return 1 - self.ssr/self.centered_tss\n"
     ]
    },
    {
     "data": {
      "image/png": "[encoded data removed]",
      "text/plain": [
       "<matplotlib.figure.Figure at 0x1c22d71780>"
      ]
     },
     "metadata": {},
     "output_type": "display_data"
    }
   ],
   "source": [
    "plot_vifs(X)"
   ]
  },
  {
   "cell_type": "code",
   "execution_count": 440,
   "metadata": {},
   "outputs": [
    {
     "data": {
      "text/plain": [
       "4023880.579710145"
      ]
     },
     "execution_count": 440,
     "metadata": {},
     "output_type": "execute_result"
    }
   ],
   "source": [
    "X_working, X_hold_out, y_working, y_hold_out = train_test_split(X, y, test_size=0.2)\n",
    "X_train, X_test, y_train, y_test = train_test_split(X_working, y_working, test_size=0.25)\n",
    "np.mean(y_train)"
   ]
  },
  {
   "cell_type": "code",
   "execution_count": 441,
   "metadata": {},
   "outputs": [
    {
     "data": {
      "text/plain": [
       "1739962.6684835183"
      ]
     },
     "execution_count": 441,
     "metadata": {},
     "output_type": "execute_result"
    }
   ],
   "source": [
    "vanilla_regression_model = sm.OLS(y_train, X_train).fit()\n",
    "vanilla_rmse = np.sqrt(mse(y_test, vanilla_regression_model.predict(exog=X_test)))\n",
    "vanilla_rmse"
   ]
  },
  {
   "cell_type": "code",
   "execution_count": 442,
   "metadata": {},
   "outputs": [],
   "source": [
    "# vanilla_regression_model.summary()"
   ]
  },
  {
   "cell_type": "code",
   "execution_count": 476,
   "metadata": {},
   "outputs": [],
   "source": [
    "def my_rmse(y_true, y_pred):\n",
    "    mse = ((y_true - y_pred)**2).mean()\n",
    "    return np.sqrt(mse)\n",
    "\n",
    "def my_cross_val_score(X_data, y_data, num_folds=3):\n",
    "    kf = KFold(n_splits=num_folds)\n",
    "    error = np.empty(num_folds)\n",
    "    index = 0\n",
    "    linear = LinearRegression()\n",
    "    for train, test in kf.split(X_data):\n",
    "        linear.fit(X_data[train], y_data[train])\n",
    "        pred = linear.predict(X_data[test])\n",
    "        error[index] = my_rmse(pred, y_data[test])\n",
    "        index += 1\n",
    "    return error"
   ]
  },
  {
   "cell_type": "code",
   "execution_count": 477,
   "metadata": {},
   "outputs": [
    {
     "data": {
      "text/plain": [
       "array([ 2523834.62596899,  2332287.87075148,  2275769.71924841,\n",
       "        4988450.18103687,  1550558.70328345])"
      ]
     },
     "execution_count": 477,
     "metadata": {},
     "output_type": "execute_result"
    }
   ],
   "source": [
    "my_cross_val_score(X_working.values, y_working.values, num_folds=5)"
   ]
  },
  {
   "cell_type": "code",
   "execution_count": 481,
   "metadata": {},
   "outputs": [
    {
     "data": {
      "text/plain": [
       "0.33809095999041039"
      ]
     },
     "execution_count": 481,
     "metadata": {},
     "output_type": "execute_result"
    }
   ],
   "source": [
    "LinearRegression().fit(X_train_std, y_train).score(X_train_std, y_train)"
   ]
  },
  {
   "cell_type": "code",
   "execution_count": 536,
   "metadata": {},
   "outputs": [
    {
     "ename": "NameError",
     "evalue": "name 'X_test_std' is not defined",
     "output_type": "error",
     "traceback": [
      "\u001b[0;31m---------------------------------------------------------------------------\u001b[0m",
      "\u001b[0;31mNameError\u001b[0m                                 Traceback (most recent call last)",
      "\u001b[0;32m<ipython-input-536-d0613f90f7ef>\u001b[0m in \u001b[0;36m<module>\u001b[0;34m()\u001b[0m\n\u001b[1;32m      2\u001b[0m \u001b[0mfig\u001b[0m\u001b[0;34m,\u001b[0m\u001b[0max\u001b[0m \u001b[0;34m=\u001b[0m \u001b[0mplt\u001b[0m\u001b[0;34m.\u001b[0m\u001b[0msubplots\u001b[0m\u001b[0;34m(\u001b[0m\u001b[0mfigsize\u001b[0m\u001b[0;34m=\u001b[0m\u001b[0;34m(\u001b[0m\u001b[0;36m10\u001b[0m\u001b[0;34m,\u001b[0m\u001b[0;36m10\u001b[0m\u001b[0;34m)\u001b[0m\u001b[0;34m)\u001b[0m\u001b[0;34m\u001b[0m\u001b[0m\n\u001b[1;32m      3\u001b[0m \u001b[0max\u001b[0m\u001b[0;34m.\u001b[0m\u001b[0mplot\u001b[0m\u001b[0;34m(\u001b[0m\u001b[0;34m[\u001b[0m\u001b[0;36m0\u001b[0m\u001b[0;34m,\u001b[0m\u001b[0;36m10000000\u001b[0m\u001b[0;34m]\u001b[0m\u001b[0;34m,\u001b[0m \u001b[0;34m[\u001b[0m\u001b[0;36m0\u001b[0m\u001b[0;34m,\u001b[0m\u001b[0;36m10000000\u001b[0m\u001b[0;34m]\u001b[0m\u001b[0;34m,\u001b[0m \u001b[0;34m\"k-\"\u001b[0m\u001b[0;34m)\u001b[0m\u001b[0;34m\u001b[0m\u001b[0m\n\u001b[0;32m----> 4\u001b[0;31m \u001b[0max\u001b[0m\u001b[0;34m.\u001b[0m\u001b[0mscatter\u001b[0m\u001b[0;34m(\u001b[0m\u001b[0mLinearRegression\u001b[0m\u001b[0;34m(\u001b[0m\u001b[0;34m)\u001b[0m\u001b[0;34m.\u001b[0m\u001b[0mfit\u001b[0m\u001b[0;34m(\u001b[0m\u001b[0mX_train_std\u001b[0m\u001b[0;34m,\u001b[0m \u001b[0my_train\u001b[0m\u001b[0;34m)\u001b[0m\u001b[0;34m.\u001b[0m\u001b[0mpredict\u001b[0m\u001b[0;34m(\u001b[0m\u001b[0mX_test_std\u001b[0m\u001b[0;34m)\u001b[0m\u001b[0;34m,\u001b[0m \u001b[0my_test\u001b[0m\u001b[0;34m)\u001b[0m\u001b[0;34m\u001b[0m\u001b[0m\n\u001b[0m\u001b[1;32m      5\u001b[0m \u001b[0max\u001b[0m\u001b[0;34m.\u001b[0m\u001b[0mset_xlabel\u001b[0m\u001b[0;34m(\u001b[0m\u001b[0;34m'Predicted'\u001b[0m\u001b[0;34m)\u001b[0m\u001b[0;34m\u001b[0m\u001b[0m\n\u001b[1;32m      6\u001b[0m \u001b[0max\u001b[0m\u001b[0;34m.\u001b[0m\u001b[0mset_ylabel\u001b[0m\u001b[0;34m(\u001b[0m\u001b[0;34m'Actual'\u001b[0m\u001b[0;34m)\u001b[0m\u001b[0;34m\u001b[0m\u001b[0m\n",
      "\u001b[0;31mNameError\u001b[0m: name 'X_test_std' is not defined"
     ]
    },
    {
     "data": {
      "image/png": "[encoded data removed]",
      "text/plain": [
       "<matplotlib.figure.Figure at 0x1c23f41278>"
      ]
     },
     "metadata": {},
     "output_type": "display_data"
    }
   ],
   "source": [
    "# Actual ys (y) vs predicted ys (x)\n",
    "fig,ax = plt.subplots(figsize=(10,10))\n",
    "ax.plot([0,10000000], [0,10000000], \"k-\")\n",
    "ax.scatter(LinearRegression().fit(X_train_std, y_train).predict(X_test_std), y_test)\n",
    "ax.set_xlabel('Predicted')\n",
    "ax.set_ylabel('Actual')\n",
    "plt.savefig('predicted_xaxis__vs_actual_yaxis_vanilla_lm.png');"
   ]
  },
  {
   "cell_type": "code",
   "execution_count": 571,
   "metadata": {},
   "outputs": [],
   "source": [
    "def cv(X, y, base_estimator, n_folds, random_seed=154):\n",
    "\n",
    "    kf = KFold(n_splits=n_folds, random_state=random_seed)\n",
    "    test_cv_errors, train_cv_errors = np.empty(n_folds), np.empty(n_folds)\n",
    "    for idx, (train, test) in enumerate(kf.split(X_train_std)):\n",
    "        # Split into train and test\n",
    "        X_cv_train, y_cv_train = X[train], y[train]\n",
    "        X_cv_test, y_cv_test = X[test], y[test]\n",
    "        # Standardize data.\n",
    "        standardizer = XyScaler()\n",
    "        standardizer.fit(X_cv_train, y_cv_train)\n",
    "        X_cv_train_std, y_cv_train_std = standardizer.transform(X_cv_train, y_cv_train)\n",
    "        X_cv_test_std, y_cv_test_std = standardizer.transform(X_cv_test, y_cv_test)\n",
    "        # Fit estimator\n",
    "        estimator = clone(base_estimator)\n",
    "        estimator.fit(X_cv_train_std, y_cv_train_std)\n",
    "        # Measure performance\n",
    "        y_hat_train = estimator.predict(X_cv_train_std)\n",
    "        y_hat_test = estimator.predict(X_cv_test_std)\n",
    "        # Calclate the error metrics\n",
    "        train_cv_errors[idx] = rss(y_cv_train_std, y_hat_train)\n",
    "        test_cv_errors[idx] = rss(y_cv_test_std, y_hat_test)\n",
    "    return train_cv_errors, test_cv_errors\n",
    "\n",
    "def rss(y, y_hat):\n",
    "    return np.mean((y  - y_hat)**2)\n",
    "\n",
    "def train_at_various_alphas(X, y, model, alphas, n_folds=10, **kwargs):\n",
    "    cv_errors_train = pd.DataFrame(np.empty(shape=(n_folds, len(alphas))),\n",
    "                                     columns=alphas)\n",
    "    cv_errors_test = pd.DataFrame(np.empty(shape=(n_folds, len(alphas))),\n",
    "                                        columns=alphas)\n",
    "    for alpha in alphas:\n",
    "        train_fold_errors, test_fold_errors = cv(X, y, model(alpha=alpha, **kwargs), n_folds=n_folds)\n",
    "        cv_errors_train.loc[:, alpha] = train_fold_errors\n",
    "        cv_errors_test.loc[:, alpha] = test_fold_errors\n",
    "    return cv_errors_train, cv_errors_test\n",
    "\n",
    "def get_optimal_alpha(mean_cv_errors_test):\n",
    "    alphas = mean_cv_errors_test.index\n",
    "    optimal_idx = np.argmin(mean_cv_errors_test.values)\n",
    "    optimal_alpha = alphas[optimal_idx]\n",
    "    return optimal_alpha"
   ]
  },
  {
   "cell_type": "code",
   "execution_count": 572,
   "metadata": {},
   "outputs": [],
   "source": [
    "# n_folds = 10\n",
    "# train_cv_errors, test_cv_errors = cv(X_train.values, y_train.values, \n",
    "#                                      Ridge(alpha=0.5), n_folds=n_folds)"
   ]
  },
  {
   "cell_type": "markdown",
   "metadata": {},
   "source": [
    "### LASSO "
   ]
  },
  {
   "cell_type": "code",
   "execution_count": 573,
   "metadata": {},
   "outputs": [],
   "source": [
    "lasso_alphas = np.logspace(-3, 1, num=250)\n",
    "lasso_cv_errors_train, lasso_cv_errors_test = train_at_various_alphas(\n",
    "    X_train.values, y_train.values, Lasso, lasso_alphas, max_iter=50000)"
   ]
  },
  {
   "cell_type": "code",
   "execution_count": 551,
   "metadata": {},
   "outputs": [
    {
     "data": {
      "text/plain": [
       "(10, 250)"
      ]
     },
     "execution_count": 551,
     "metadata": {},
     "output_type": "execute_result"
    }
   ],
   "source": [
    "lasso_cv_errors_test.shape"
   ]
  },
  {
   "cell_type": "code",
   "execution_count": 552,
   "metadata": {},
   "outputs": [
    {
     "data": {
      "text/plain": [
       "Text(0,0.5,'MSE')"
      ]
     },
     "execution_count": 552,
     "metadata": {},
     "output_type": "execute_result"
    },
    {
     "data": {
      "image/png": "[encoded data removed]",
      "text/plain": [
       "<matplotlib.figure.Figure at 0x1c2530d080>"
      ]
     },
     "metadata": {},
     "output_type": "display_data"
    }
   ],
   "source": [
    "lasso_mean_cv_errors_train = lasso_cv_errors_train.mean(axis=0)\n",
    "lasso_mean_cv_errors_test = lasso_cv_errors_test.mean(axis=0)\n",
    "\n",
    "lasso_optimal_alpha = get_optimal_alpha(lasso_mean_cv_errors_test)\n",
    "    \n",
    "fig, ax = plt.subplots(figsize=(14, 4))\n",
    "ax.plot(np.log10(lasso_alphas), lasso_mean_cv_errors_train)\n",
    "ax.plot(np.log10(lasso_alphas), lasso_mean_cv_errors_test) \n",
    "ax.axvline(np.log10(lasso_optimal_alpha), color='grey')\n",
    "ax.set_title(\"LASSO Regression Train and Test MSE\")\n",
    "ax.set_xlabel(r\"$\\log(\\alpha)$\")\n",
    "ax.set_ylabel(\"MSE\")"
   ]
  },
  {
   "cell_type": "code",
   "execution_count": 531,
   "metadata": {},
   "outputs": [],
   "source": [
    "lasso_models = []\n",
    "\n",
    "for alpha in lasso_alphas:\n",
    "    scaler = XyScaler()\n",
    "    scaler.fit(X_train.values, y_train.values)\n",
    "    X_train_std, y_train_std = scaler.transform(X_train.values, y_train.values)\n",
    "    lasso = Lasso(alpha=alpha, tol=.01)\n",
    "    lasso.fit(X_train_std, y_train_std)\n",
    "    lasso_models.append(lasso)"
   ]
  },
  {
   "cell_type": "code",
   "execution_count": 532,
   "metadata": {},
   "outputs": [
    {
     "data": {
      "text/plain": [
       "Text(0,0.5,'Standardized Coefficient')"
      ]
     },
     "execution_count": 532,
     "metadata": {},
     "output_type": "execute_result"
    },
    {
     "data": {
      "image/png": "[encoded data removed]",
      "text/plain": [
       "<matplotlib.figure.Figure at 0x1c21502240>"
      ]
     },
     "metadata": {},
     "output_type": "display_data"
    }
   ],
   "source": [
    "paths = pd.DataFrame(np.empty(shape=(len(lasso_alphas), len(X_train.columns))),\n",
    "                     index=lasso_alphas, columns=X_train.columns)\n",
    "\n",
    "for idx, model in enumerate(lasso_models):\n",
    "    paths.iloc[idx] = model.coef_\n",
    "    \n",
    "fig, ax = plt.subplots(figsize=(14, 8))\n",
    "for column in X_train.columns:\n",
    "    path = paths.loc[:, column]\n",
    "    ax.plot(np.log10(lasso_alphas), path, label=column)\n",
    "ax.axvline(np.log10(lasso_optimal_alpha), color='grey')\n",
    "ax.legend(loc='lower right')\n",
    "ax.set_title(\"LASSO Regression, Standardized Coefficient Paths\")\n",
    "ax.set_xlabel(r\"$\\log(\\alpha)$\")\n",
    "ax.set_ylabel(\"Standardized Coefficient\")"
   ]
  },
  {
   "cell_type": "code",
   "execution_count": null,
   "metadata": {
    "collapsed": true
   },
   "outputs": [],
   "source": []
  },
  {
   "cell_type": "code",
   "execution_count": 592,
   "metadata": {},
   "outputs": [],
   "source": [
    "clf = Lasso(alpha=3, tol=.01)"
   ]
  },
  {
   "cell_type": "code",
   "execution_count": 602,
   "metadata": {},
   "outputs": [
    {
     "name": "stderr",
     "output_type": "stream",
     "text": [
      "/Users/alanteran/anaconda3/lib/python3.6/site-packages/sklearn/linear_model/coordinate_descent.py:491: ConvergenceWarning: Objective did not converge. You might want to increase the number of iterations. Fitting data with very small alpha may cause precision problems.\n",
      "  ConvergenceWarning)\n"
     ]
    },
    {
     "data": {
      "text/plain": [
       "Lasso(alpha=3, copy_X=True, fit_intercept=True, max_iter=1000,\n",
       "   normalize=False, positive=False, precompute=False, random_state=None,\n",
       "   selection='cyclic', tol=0.01, warm_start=False)"
      ]
     },
     "execution_count": 602,
     "metadata": {},
     "output_type": "execute_result"
    }
   ],
   "source": [
    "clf.fit(X_train_std, y_train)"
   ]
  },
  {
   "cell_type": "code",
   "execution_count": 603,
   "metadata": {},
   "outputs": [],
   "source": [
    "# print(clf.coef_)"
   ]
  },
  {
   "cell_type": "code",
   "execution_count": 604,
   "metadata": {},
   "outputs": [],
   "source": [
    "# clf.predict(X_test)"
   ]
  },
  {
   "cell_type": "code",
   "execution_count": null,
   "metadata": {},
   "outputs": [],
   "source": []
  },
  {
   "cell_type": "code",
   "execution_count": 605,
   "metadata": {},
   "outputs": [],
   "source": [
    "LASSO_rmse = np.sqrt(mse(y_test, clf.predict(X_test)))"
   ]
  },
  {
   "cell_type": "code",
   "execution_count": 606,
   "metadata": {},
   "outputs": [
    {
     "data": {
      "text/plain": [
       "2928814291.1158876"
      ]
     },
     "execution_count": 606,
     "metadata": {},
     "output_type": "execute_result"
    }
   ],
   "source": [
    "LASSO_rmse"
   ]
  },
  {
   "cell_type": "code",
   "execution_count": 586,
   "metadata": {},
   "outputs": [
    {
     "data": {
      "text/plain": [
       "1739962.6684835183"
      ]
     },
     "execution_count": 586,
     "metadata": {},
     "output_type": "execute_result"
    }
   ],
   "source": [
    "vanilla_rmse"
   ]
  },
  {
   "cell_type": "code",
   "execution_count": null,
   "metadata": {},
   "outputs": [],
   "source": []
  },
  {
   "cell_type": "code",
   "execution_count": null,
   "metadata": {},
   "outputs": [],
   "source": [
    "fig,ax = plt.subplots(figsize=(10,10))\n",
    "ax.plot([0,10000000], [0,10000000], \"k-\")\n",
    "ax.scatter(LinearRegression().fit(X_train_std, y_train).predict(X_test_std), y_test)\n",
    "ax.set_xlabel('Predicted')\n",
    "ax.set_ylabel('Actual')\n",
    "plt.savefig('predicted_xaxis__vs_actual_yaxis_vanilla_lm.png');"
   ]
  },
  {
   "cell_type": "code",
   "execution_count": null,
   "metadata": {
    "collapsed": true
   },
   "outputs": [],
   "source": []
  }
 ],
 "metadata": {
  "kernelspec": {
   "display_name": "Python 3",
   "language": "python",
   "name": "python3"
  },
  "language_info": {
   "codemirror_mode": {
    "name": "ipython",
    "version": 3
   },
   "file_extension": ".py",
   "mimetype": "text/x-python",
   "name": "python",
   "nbconvert_exporter": "python",
   "pygments_lexer": "ipython3",
   "version": "3.6.3"
  }
 },
 "nbformat": 4,
 "nbformat_minor": 2
}
