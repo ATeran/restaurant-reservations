{
 "cells": [
  {
   "cell_type": "markdown",
   "metadata": {},
   "source": [
    "### Imports"
   ]
  },
  {
   "cell_type": "code",
   "execution_count": 229,
   "metadata": {},
   "outputs": [],
   "source": [
    "import statsmodels.api as sm\n",
    "# import statsmodels.formula.api as smf\n",
    "# from statsmodels.graphics import regressionplots as smg\n",
    "import matplotlib.pyplot as plt\n",
    "import numpy as np\n",
    "import pandas as pd\n",
    "# import plotly.plotly as py\n",
    "# import plotly.graph_objs as go\n",
    "import scipy.stats as scs\n",
    "from pandas.plotting import scatter_matrix as scatter\n",
    "# from sklearn.preprocessing import scale\n",
    "from statsmodels.stats.outliers_influence import variance_inflation_factor\n",
    "\n",
    "from sklearn.linear_model import LinearRegression, Ridge, Lasso\n",
    "from sklearn.model_selection import KFold\n",
    "from sklearn.model_selection import train_test_split\n",
    "from sklearn.model_selection import cross_val_score\n",
    "from sklearn.metrics import mean_squared_error as mse\n",
    "from sklearn import svm\n",
    "\n",
    "\n",
    "from utils import XyScaler"
   ]
  },
  {
   "cell_type": "markdown",
   "metadata": {},
   "source": [
    "### Data-prep Functions"
   ]
  },
  {
   "cell_type": "code",
   "execution_count": 203,
   "metadata": {
    "collapsed": true
   },
   "outputs": [],
   "source": [
    "def load_data(file_path):\n",
    "    df = pd.read_csv(file_path)\n",
    "    return df\n",
    "\n",
    "def clean_names(df):\n",
    "    temp_liz = [name.lower().replace(\" \",\"_\") for name in df.columns]\n",
    "    df.columns = temp_liz\n",
    "    return df\n",
    "\n",
    "def convert_dates(df, date_column, to_drop):\n",
    "    ''' Input -- Pandas series of strings: formatted as yyyy-mm-dd\n",
    "        Output -- Pandas series: integer number of days since the start of the data.\n",
    "    '''\n",
    "    old_column = date_column\n",
    "    date_column = pd.to_datetime(date_column)\n",
    "    df['date_delta'] = (date_column - date_column.min())  / np.timedelta64(1,'D')\n",
    "    df.drop(to_drop, axis=1, inplace=True)\n",
    "    return df\n",
    "\n",
    "def convert_to_dummies(df, list_of_categorical_columns):\n",
    "    ''' Input -- Pandas DataFrame\n",
    "        Input -- List of Pandas Series -- Categorical column to be dummied\n",
    "        Output -- DataFrame with the categorical column replaced with dummy columns\n",
    "    '''\n",
    "    for categorical_column in list_of_categorical_columns:\n",
    "        dummied_column = pd.get_dummies(df[categorical_column])\n",
    "        df = pd.concat([df, dummied_column], axis=1)\n",
    "        df.drop(categorical_column, axis=1, inplace=True)\n",
    "    return df"
   ]
  },
  {
   "cell_type": "code",
   "execution_count": 204,
   "metadata": {},
   "outputs": [
    {
     "data": {
      "text/html": [
       "<div>\n",
       "<style>\n",
       "    .dataframe thead tr:only-child th {\n",
       "        text-align: right;\n",
       "    }\n",
       "\n",
       "    .dataframe thead th {\n",
       "        text-align: left;\n",
       "    }\n",
       "\n",
       "    .dataframe tbody tr th {\n",
       "        vertical-align: top;\n",
       "    }\n",
       "</style>\n",
       "<table border=\"1\" class=\"dataframe\">\n",
       "  <thead>\n",
       "    <tr style=\"text-align: right;\">\n",
       "      <th></th>\n",
       "      <th>id</th>\n",
       "      <th>city</th>\n",
       "      <th>p1</th>\n",
       "      <th>p2</th>\n",
       "      <th>p3</th>\n",
       "      <th>p4</th>\n",
       "      <th>p5</th>\n",
       "      <th>p6</th>\n",
       "      <th>p7</th>\n",
       "      <th>p8</th>\n",
       "      <th>...</th>\n",
       "      <th>p35</th>\n",
       "      <th>p36</th>\n",
       "      <th>p37</th>\n",
       "      <th>revenue</th>\n",
       "      <th>date_delta</th>\n",
       "      <th>dt</th>\n",
       "      <th>fc</th>\n",
       "      <th>il</th>\n",
       "      <th>big_cities</th>\n",
       "      <th>other</th>\n",
       "    </tr>\n",
       "  </thead>\n",
       "  <tbody>\n",
       "    <tr>\n",
       "      <th>0</th>\n",
       "      <td>0</td>\n",
       "      <td>İstanbul</td>\n",
       "      <td>4</td>\n",
       "      <td>5.0</td>\n",
       "      <td>4.0</td>\n",
       "      <td>4.0</td>\n",
       "      <td>2</td>\n",
       "      <td>2</td>\n",
       "      <td>5</td>\n",
       "      <td>4</td>\n",
       "      <td>...</td>\n",
       "      <td>4</td>\n",
       "      <td>3</td>\n",
       "      <td>4</td>\n",
       "      <td>5653753.0</td>\n",
       "      <td>1165.0</td>\n",
       "      <td>0</td>\n",
       "      <td>0</td>\n",
       "      <td>1</td>\n",
       "      <td>1</td>\n",
       "      <td>0</td>\n",
       "    </tr>\n",
       "    <tr>\n",
       "      <th>1</th>\n",
       "      <td>1</td>\n",
       "      <td>Ankara</td>\n",
       "      <td>4</td>\n",
       "      <td>5.0</td>\n",
       "      <td>4.0</td>\n",
       "      <td>4.0</td>\n",
       "      <td>1</td>\n",
       "      <td>2</td>\n",
       "      <td>5</td>\n",
       "      <td>5</td>\n",
       "      <td>...</td>\n",
       "      <td>0</td>\n",
       "      <td>0</td>\n",
       "      <td>0</td>\n",
       "      <td>6923131.0</td>\n",
       "      <td>4299.0</td>\n",
       "      <td>0</td>\n",
       "      <td>1</td>\n",
       "      <td>0</td>\n",
       "      <td>1</td>\n",
       "      <td>0</td>\n",
       "    </tr>\n",
       "    <tr>\n",
       "      <th>2</th>\n",
       "      <td>2</td>\n",
       "      <td>Diyarbakır</td>\n",
       "      <td>2</td>\n",
       "      <td>4.0</td>\n",
       "      <td>2.0</td>\n",
       "      <td>5.0</td>\n",
       "      <td>2</td>\n",
       "      <td>3</td>\n",
       "      <td>5</td>\n",
       "      <td>5</td>\n",
       "      <td>...</td>\n",
       "      <td>0</td>\n",
       "      <td>0</td>\n",
       "      <td>0</td>\n",
       "      <td>2055379.0</td>\n",
       "      <td>6149.0</td>\n",
       "      <td>0</td>\n",
       "      <td>0</td>\n",
       "      <td>1</td>\n",
       "      <td>0</td>\n",
       "      <td>1</td>\n",
       "    </tr>\n",
       "    <tr>\n",
       "      <th>3</th>\n",
       "      <td>3</td>\n",
       "      <td>Tokat</td>\n",
       "      <td>6</td>\n",
       "      <td>4.5</td>\n",
       "      <td>6.0</td>\n",
       "      <td>6.0</td>\n",
       "      <td>4</td>\n",
       "      <td>4</td>\n",
       "      <td>10</td>\n",
       "      <td>8</td>\n",
       "      <td>...</td>\n",
       "      <td>12</td>\n",
       "      <td>12</td>\n",
       "      <td>6</td>\n",
       "      <td>2675511.0</td>\n",
       "      <td>5748.0</td>\n",
       "      <td>0</td>\n",
       "      <td>0</td>\n",
       "      <td>1</td>\n",
       "      <td>0</td>\n",
       "      <td>1</td>\n",
       "    </tr>\n",
       "    <tr>\n",
       "      <th>4</th>\n",
       "      <td>4</td>\n",
       "      <td>Gaziantep</td>\n",
       "      <td>3</td>\n",
       "      <td>4.0</td>\n",
       "      <td>3.0</td>\n",
       "      <td>4.0</td>\n",
       "      <td>2</td>\n",
       "      <td>2</td>\n",
       "      <td>5</td>\n",
       "      <td>5</td>\n",
       "      <td>...</td>\n",
       "      <td>4</td>\n",
       "      <td>3</td>\n",
       "      <td>3</td>\n",
       "      <td>4316715.0</td>\n",
       "      <td>4749.0</td>\n",
       "      <td>0</td>\n",
       "      <td>0</td>\n",
       "      <td>1</td>\n",
       "      <td>0</td>\n",
       "      <td>1</td>\n",
       "    </tr>\n",
       "  </tbody>\n",
       "</table>\n",
       "<p>5 rows × 46 columns</p>\n",
       "</div>"
      ],
      "text/plain": [
       "   id        city  p1   p2   p3   p4  p5  p6  p7  p8  ...    p35  p36  p37  \\\n",
       "0   0    İstanbul   4  5.0  4.0  4.0   2   2   5   4  ...      4    3    4   \n",
       "1   1      Ankara   4  5.0  4.0  4.0   1   2   5   5  ...      0    0    0   \n",
       "2   2  Diyarbakır   2  4.0  2.0  5.0   2   3   5   5  ...      0    0    0   \n",
       "3   3       Tokat   6  4.5  6.0  6.0   4   4  10   8  ...     12   12    6   \n",
       "4   4   Gaziantep   3  4.0  3.0  4.0   2   2   5   5  ...      4    3    3   \n",
       "\n",
       "     revenue  date_delta  dt  fc  il  big_cities  other  \n",
       "0  5653753.0      1165.0   0   0   1           1      0  \n",
       "1  6923131.0      4299.0   0   1   0           1      0  \n",
       "2  2055379.0      6149.0   0   0   1           0      1  \n",
       "3  2675511.0      5748.0   0   0   1           0      1  \n",
       "4  4316715.0      4749.0   0   0   1           0      1  \n",
       "\n",
       "[5 rows x 46 columns]"
      ]
     },
     "execution_count": 204,
     "metadata": {},
     "output_type": "execute_result"
    }
   ],
   "source": [
    "df = load_data('/Users/alanteran/galvanize/restaurant-revenue-prediction/data/train.csv')\n",
    "df = clean_names(df)\n",
    "df = convert_dates(df, df['open_date'], 'open_date')\n",
    "df = convert_to_dummies(df, ['type', 'city_group'])\n",
    "df = clean_names(df)\n",
    "df.head()"
   ]
  },
  {
   "cell_type": "markdown",
   "metadata": {},
   "source": [
    "### Split Data"
   ]
  },
  {
   "cell_type": "code",
   "execution_count": 205,
   "metadata": {},
   "outputs": [],
   "source": [
    "cities = df.pop('city')\n",
    "y = df.pop('revenue')\n",
    "X = df"
   ]
  },
  {
   "cell_type": "code",
   "execution_count": 210,
   "metadata": {
    "collapsed": true
   },
   "outputs": [],
   "source": [
    "def get_vifs(df):\n",
    "    '''\n",
    "    Input -- Pandas DataFrame, calculates the vifs for each variable in the DataFrame.\n",
    "    Returns list of tuples: (column name, vif value)\n",
    "    '''\n",
    "    vifs = []\n",
    "    cols = df.columns\n",
    "    for index in range(df.shape[1]):\n",
    "        vifs.append(round(variance_inflation_factor(df.values, index),2))\n",
    "    return [(column, vif) for column, vif in zip(cols, vifs)]"
   ]
  },
  {
   "cell_type": "code",
   "execution_count": null,
   "metadata": {},
   "outputs": [],
   "source": []
  },
  {
   "cell_type": "code",
   "execution_count": 211,
   "metadata": {
    "collapsed": true
   },
   "outputs": [],
   "source": [
    "def plot_vifs(df):\n",
    "    sorted_vifs = sorted(get_vifs(df), key=lambda x:x[1])\n",
    "    N = len(sorted_vifs)\n",
    "    features_sorted= []\n",
    "    vifs_sorted= []\n",
    "    for elem in sort_vifs(X):\n",
    "        features_sorted.append(elem[0])\n",
    "        vifs_sorted.append(elem[1])\n",
    "    features_sorted.reverse()\n",
    "    vifs_sorted.reverse()\n",
    "\n",
    "    ind = np.arange(N)  \n",
    "    width = 0.35      \n",
    "    fig, ax = plt.subplots(figsize=(10,4))\n",
    "    rects1 = ax.bar(ind, vifs_sorted, width, color='r')\n",
    "\n",
    "    ax.set_ylabel('Variance Inflation Factor')\n",
    "    ax.set_title('Distribution of VIFs')\n",
    "    ax.set_xticks(ind + width)\n",
    "    ax.set_xticklabels(features_sorted, rotation='90')\n",
    "    ax.axhline(10, color='blue')\n",
    "    ax.axvline(N/2, color='blue')\n",
    "\n",
    "    return plt.show()"
   ]
  },
  {
   "cell_type": "code",
   "execution_count": 212,
   "metadata": {},
   "outputs": [
    {
     "name": "stderr",
     "output_type": "stream",
     "text": [
      "/Users/alanteran/anaconda3/lib/python3.6/site-packages/statsmodels/stats/outliers_influence.py:167: RuntimeWarning:\n",
      "\n",
      "divide by zero encountered in double_scalars\n",
      "\n"
     ]
    },
    {
     "data": {
      "image/png": "[encoded data removed]",
      "text/plain": [
       "<matplotlib.figure.Figure at 0x1c17761be0>"
      ]
     },
     "metadata": {},
     "output_type": "display_data"
    }
   ],
   "source": [
    "plot_vifs(X)"
   ]
  },
  {
   "cell_type": "code",
   "execution_count": 213,
   "metadata": {},
   "outputs": [
    {
     "data": {
      "text/plain": [
       "4661053.018348624"
      ]
     },
     "execution_count": 213,
     "metadata": {},
     "output_type": "execute_result"
    }
   ],
   "source": [
    "X_train, X_hold_out, y_train, y_hold_out = train_test_split(X, y, test_size=0.2)\n",
    "# X_train, X_test, y_train, y_test = train_test_split(X, y, test_size=0.25)\n",
    "np.mean(y_train)"
   ]
  },
  {
   "cell_type": "code",
   "execution_count": 214,
   "metadata": {},
   "outputs": [
    {
     "data": {
      "text/plain": [
       "2058566.2026527743"
      ]
     },
     "execution_count": 214,
     "metadata": {},
     "output_type": "execute_result"
    }
   ],
   "source": [
    "vanilla_regression_model = sm.OLS(y_train, X_train).fit()\n",
    "vanilla_rmse = np.sqrt(mse(y_train, vanilla_regression_model.predict()))\n",
    "vanilla_rmse"
   ]
  },
  {
   "cell_type": "code",
   "execution_count": 215,
   "metadata": {},
   "outputs": [],
   "source": [
    "def my_rmse(y_true, y_pred):\n",
    "    mse = ((y_true - y_pred)**2).mean()\n",
    "    return np.sqrt(mse)\n",
    "\n",
    "def my_cross_val_score(X_data, y_data, num_folds=3):\n",
    "    kf = KFold(n_splits=num_folds)\n",
    "    error = np.empty(num_folds)\n",
    "    index = 0\n",
    "    linear = LinearRegression()\n",
    "    for train, test in kf.split(X_data):\n",
    "        linear.fit(X_data[train], y_data[train])\n",
    "        pred = linear.predict(X_data[test])\n",
    "        error[index] = my_rmse(pred, y_data[test])\n",
    "        index += 1\n",
    "    return np.mean(error)"
   ]
  },
  {
   "cell_type": "code",
   "execution_count": 336,
   "metadata": {},
   "outputs": [
    {
     "ename": "NameError",
     "evalue": "name 'X_data' is not defined",
     "output_type": "error",
     "traceback": [
      "\u001b[0;31m---------------------------------------------------------------------------\u001b[0m",
      "\u001b[0;31mNameError\u001b[0m                                 Traceback (most recent call last)",
      "\u001b[0;32m<ipython-input-336-6c7c89cf48c1>\u001b[0m in \u001b[0;36m<module>\u001b[0;34m()\u001b[0m\n\u001b[1;32m      1\u001b[0m \u001b[0mlinear\u001b[0m \u001b[0;34m=\u001b[0m \u001b[0mLinearRegression\u001b[0m\u001b[0;34m(\u001b[0m\u001b[0;34m)\u001b[0m\u001b[0;34m\u001b[0m\u001b[0m\n\u001b[0;32m----> 2\u001b[0;31m \u001b[0mlinear\u001b[0m\u001b[0;34m.\u001b[0m\u001b[0mfit\u001b[0m\u001b[0;34m(\u001b[0m\u001b[0mX_data\u001b[0m\u001b[0;34m[\u001b[0m\u001b[0mtrain\u001b[0m\u001b[0;34m]\u001b[0m\u001b[0;34m,\u001b[0m \u001b[0my_data\u001b[0m\u001b[0;34m[\u001b[0m\u001b[0mtrain\u001b[0m\u001b[0;34m]\u001b[0m\u001b[0;34m)\u001b[0m\u001b[0;34m\u001b[0m\u001b[0m\n\u001b[0m\u001b[1;32m      3\u001b[0m \u001b[0;31m# my_cross_val_score(X_train.values, y_train.values, num_folds=5)\u001b[0m\u001b[0;34m\u001b[0m\u001b[0;34m\u001b[0m\u001b[0m\n\u001b[1;32m      4\u001b[0m \u001b[0mcross_val_score\u001b[0m\u001b[0;34m(\u001b[0m\u001b[0mlinear\u001b[0m\u001b[0;34m,\u001b[0m \u001b[0mX_train\u001b[0m\u001b[0;34m.\u001b[0m\u001b[0mvalues\u001b[0m\u001b[0;34m,\u001b[0m \u001b[0my_train\u001b[0m\u001b[0;34m.\u001b[0m\u001b[0mvalues\u001b[0m\u001b[0;34m)\u001b[0m\u001b[0;34m\u001b[0m\u001b[0m\n",
      "\u001b[0;31mNameError\u001b[0m: name 'X_data' is not defined"
     ]
    }
   ],
   "source": [
    "my_cross_val_score(X_train.values, y_train.values, num_folds=5)"
   ]
  },
  {
   "cell_type": "code",
   "execution_count": 240,
   "metadata": {},
   "outputs": [],
   "source": [
    "def cv(X, y, base_estimator, n_folds, random_seed=154):\n",
    "    \"\"\"Estimate the in and out-of-sample error of a model using cross validation.\n",
    "    \n",
    "    Parameters\n",
    "    ----------\n",
    "    \n",
    "    X: np.array\n",
    "      Matrix of predictors.\n",
    "      \n",
    "    y: np.array\n",
    "      Target array.\n",
    "      \n",
    "    base_estimator: sklearn model object.\n",
    "      The estimator to fit.  Must have fit and predict methods.\n",
    "      \n",
    "    n_folds: int\n",
    "      The number of folds in the cross validation.\n",
    "      \n",
    "    random_seed: int\n",
    "      A seed for the random number generator, for repeatability.\n",
    "    \n",
    "    Returns\n",
    "    -------\n",
    "      \n",
    "    train_cv_errors, test_cv_errors: tuple of arrays\n",
    "      The training and testing errors for each fold of cross validation.\n",
    "    \"\"\"\n",
    "    kf = KFold(n_splits=n_folds, random_state=random_seed)\n",
    "    test_cv_errors, train_cv_errors = np.empty(n_folds), np.empty(n_folds)\n",
    "    for idx, (train, test) in enumerate(kf.split(X_train)):\n",
    "        # Split into train and test\n",
    "        X_cv_train, y_cv_train = X[train], y[train]\n",
    "        X_cv_test, y_cv_test = X[test], y[test]\n",
    "        # Standardize data.\n",
    "        standardizer = XyScaler()\n",
    "        standardizer.fit(X_cv_train, y_cv_train)\n",
    "        X_cv_train_std, y_cv_train_std = standardizer.transform(X_cv_train, y_cv_train)\n",
    "        X_cv_test_std, y_cv_test_std = standardizer.transform(X_cv_test, y_cv_test)\n",
    "        # Fit estimator\n",
    "        estimator = clone(base_estimator)\n",
    "        estimator.fit(X_cv_train_std, y_cv_train_std)\n",
    "        # Measure performance\n",
    "        y_hat_train = estimator.predict(X_cv_train_std)\n",
    "        y_hat_test = estimator.predict(X_cv_test_std)\n",
    "        # Calclate the error metrics\n",
    "        train_cv_errors[idx] = rss(y_cv_train_std, y_hat_train)\n",
    "        test_cv_errors[idx] = rss(y_cv_test_std, y_hat_test)\n",
    "    return train_cv_errors, test_cv_errors\n",
    "\n",
    "def rss(y, y_hat):\n",
    "    return np.mean((y  - y_hat)**2)\n",
    "\n",
    "def train_at_various_alphas(X, y, model, alphas, n_folds=10, **kwargs):\n",
    "    \"\"\"Train a regularized regression model using cross validation at various values of alpha.\n",
    "    \n",
    "    Parameters\n",
    "    ----------\n",
    "    \n",
    "    X: np.array\n",
    "      Matrix of predictors.\n",
    "      \n",
    "    y: np.array\n",
    "      Target array.\n",
    "      \n",
    "    model: sklearn model class\n",
    "      A class in sklearn that can be used to create a regularized regression object.  Options are `Ridge` and `Lasso`.\n",
    "      \n",
    "    alphas: numpy array\n",
    "      An array of regularization parameters.\n",
    "      \n",
    "    n_folds: int\n",
    "      Number of cross validation folds.\n",
    "      \n",
    "    Returns\n",
    "    -------\n",
    "    \n",
    "    cv_errors_train, cv_errors_test: tuple of DataFrame\n",
    "      DataFrames containing the training and testing errors for each value of \n",
    "      alpha and each cross validation fold.  Each row represents a CV fold,\n",
    "      and each column a value of alpha.\n",
    "    \"\"\"\n",
    "    cv_errors_train = pd.DataFrame(np.empty(shape=(n_folds, len(alphas))),\n",
    "                                     columns=alphas)\n",
    "    cv_errors_test = pd.DataFrame(np.empty(shape=(n_folds, len(alphas))),\n",
    "                                        columns=alphas)\n",
    "    for alpha in alphas:\n",
    "        train_fold_errors, test_fold_errors = cv(X, y, model(alpha=alpha, **kwargs), n_folds=n_folds)\n",
    "        cv_errors_train.loc[:, alpha] = train_fold_errors\n",
    "        cv_errors_test.loc[:, alpha] = test_fold_errors\n",
    "    return cv_errors_train, cv_errors_test\n",
    "\n",
    "def get_optimal_alpha(mean_cv_errors_test):\n",
    "    alphas = mean_cv_errors_test.index\n",
    "    optimal_idx = np.argmin(mean_cv_errors_test.values)\n",
    "    optimal_alpha = alphas[optimal_idx]\n",
    "    return optimal_alpha\n"
   ]
  },
  {
   "cell_type": "code",
   "execution_count": 241,
   "metadata": {},
   "outputs": [],
   "source": [
    "n_folds = 10\n",
    "train_cv_errors, test_cv_errors = cv(X_train.values, y_train.values, \n",
    "                                     Ridge(alpha=0.5), n_folds=n_folds)"
   ]
  },
  {
   "cell_type": "markdown",
   "metadata": {},
   "source": [
    "### LASSO "
   ]
  },
  {
   "cell_type": "code",
   "execution_count": 242,
   "metadata": {},
   "outputs": [],
   "source": [
    "lasso_alphas = np.logspace(-3, 1, num=250)\n",
    "\n",
    "lasso_cv_errors_train, lasso_cv_errors_test = train_at_various_alphas(\n",
    "    X_train.values, y_train.values, Lasso, lasso_alphas, max_iter=5000)"
   ]
  },
  {
   "cell_type": "code",
   "execution_count": 243,
   "metadata": {},
   "outputs": [
    {
     "data": {
      "text/plain": [
       "(10, 250)"
      ]
     },
     "execution_count": 243,
     "metadata": {},
     "output_type": "execute_result"
    }
   ],
   "source": [
    "lasso_cv_errors_test.shape"
   ]
  },
  {
   "cell_type": "code",
   "execution_count": 244,
   "metadata": {},
   "outputs": [
    {
     "data": {
      "text/plain": [
       "Text(0,0.5,'MSE')"
      ]
     },
     "execution_count": 244,
     "metadata": {},
     "output_type": "execute_result"
    },
    {
     "data": {
      "image/png": "[encoded data removed]",
      "text/plain": [
       "<matplotlib.figure.Figure at 0x1c1767a198>"
      ]
     },
     "metadata": {},
     "output_type": "display_data"
    }
   ],
   "source": [
    "lasso_mean_cv_errors_train = lasso_cv_errors_train.mean(axis=0)\n",
    "lasso_mean_cv_errors_test = lasso_cv_errors_test.mean(axis=0)\n",
    "\n",
    "lasso_optimal_alpha = get_optimal_alpha(lasso_mean_cv_errors_test)\n",
    "    \n",
    "fig, ax = plt.subplots(figsize=(14, 4))\n",
    "ax.plot(np.log10(lasso_alphas), lasso_mean_cv_errors_train)\n",
    "ax.plot(np.log10(lasso_alphas), lasso_mean_cv_errors_test) \n",
    "ax.axvline(np.log10(lasso_optimal_alpha), color='grey')\n",
    "ax.set_title(\"LASSO Regression Train and Test MSE\")\n",
    "ax.set_xlabel(r\"$\\log(\\alpha)$\")\n",
    "ax.set_ylabel(\"MSE\")"
   ]
  },
  {
   "cell_type": "code",
   "execution_count": 245,
   "metadata": {
    "collapsed": true
   },
   "outputs": [],
   "source": [
    "lasso_models = []\n",
    "\n",
    "for alpha in lasso_alphas:\n",
    "    scaler = XyScaler()\n",
    "    scaler.fit(X_train.values, y_train.values)\n",
    "    X_train_std, y_train_std = scaler.transform(X_train.values, y_train.values)\n",
    "    lasso = Lasso(alpha=alpha)\n",
    "    lasso.fit(X_train_std, y_train_std)\n",
    "    lasso_models.append(lasso)"
   ]
  },
  {
   "cell_type": "code",
   "execution_count": 246,
   "metadata": {},
   "outputs": [
    {
     "data": {
      "text/plain": [
       "Text(0,0.5,'Standardized Coefficient')"
      ]
     },
     "execution_count": 246,
     "metadata": {},
     "output_type": "execute_result"
    },
    {
     "data": {
      "image/png": "[encoded data removed]",
      "text/plain": [
       "<matplotlib.figure.Figure at 0x1c1781eba8>"
      ]
     },
     "metadata": {},
     "output_type": "display_data"
    }
   ],
   "source": [
    "paths = pd.DataFrame(np.empty(shape=(len(lasso_alphas), len(X_train.columns))),\n",
    "                     index=lasso_alphas, columns=X_train.columns)\n",
    "\n",
    "for idx, model in enumerate(lasso_models):\n",
    "    paths.iloc[idx] = model.coef_\n",
    "    \n",
    "fig, ax = plt.subplots(figsize=(14, 4))\n",
    "for column in X_train.columns:\n",
    "    path = paths.loc[:, column]\n",
    "    ax.plot(np.log10(lasso_alphas), path, label=column)\n",
    "ax.axvline(np.log10(lasso_optimal_alpha), color='grey')\n",
    "ax.legend(loc='lower right')\n",
    "ax.set_title(\"LASSO Regression, Standardized Coefficient Paths\")\n",
    "ax.set_xlabel(r\"$\\log(\\alpha)$\")\n",
    "ax.set_ylabel(\"Standardized Coefficient\")"
   ]
  },
  {
   "cell_type": "code",
   "execution_count": 329,
   "metadata": {},
   "outputs": [],
   "source": [
    "clf = Lasso(alpha=.0001, tol=3)"
   ]
  },
  {
   "cell_type": "code",
   "execution_count": 330,
   "metadata": {},
   "outputs": [
    {
     "data": {
      "text/plain": [
       "Lasso(alpha=0.0001, copy_X=True, fit_intercept=True, max_iter=1000,\n",
       "   normalize=False, positive=False, precompute=False, random_state=None,\n",
       "   selection='cyclic', tol=3, warm_start=False)"
      ]
     },
     "execution_count": 330,
     "metadata": {},
     "output_type": "execute_result"
    }
   ],
   "source": [
    "clf.fit(X_train, y_train)"
   ]
  },
  {
   "cell_type": "code",
   "execution_count": 331,
   "metadata": {},
   "outputs": [
    {
     "name": "stdout",
     "output_type": "stream",
     "text": [
      "[ -5.76155350e+03   4.93047476e+04   2.21820483e+05  -3.67761426e+05\n",
      "  -4.53433067e+03  -9.95971068e+04   9.52750663e+04  -9.05054518e+04\n",
      "  -1.49624141e+05   5.75699926e+04  -2.41478779e+04   1.94528094e+05\n",
      "  -6.84806055e+04  -1.27353961e+05  -2.43040678e+04  -2.25900033e+04\n",
      "  -5.64991304e+03   9.74243474e+04  -4.49696241e+04   3.83662325e+04\n",
      "  -2.25675356e+04   7.04676890e+04  -3.93173413e+04  -4.61938642e+03\n",
      "  -3.33931645e+04   2.24679313e+04  -3.25358200e+04   4.33179198e+04\n",
      "   8.70061777e+04  -1.03548303e+05  -2.82783413e+04   2.03183786e+03\n",
      "  -1.58014457e+03  -1.06957416e+04   1.03927111e+04   1.13401124e+04\n",
      "  -2.65803731e+03   3.44117673e+04  -3.24268763e+02  -2.04966556e+06\n",
      "   7.92953436e+05  -1.49815760e+04   6.83231759e+05  -1.74770092e-10]\n"
     ]
    }
   ],
   "source": [
    "print(clf.coef_)"
   ]
  },
  {
   "cell_type": "code",
   "execution_count": 304,
   "metadata": {},
   "outputs": [
    {
     "name": "stdout",
     "output_type": "stream",
     "text": [
      "9277891.90072\n"
     ]
    }
   ],
   "source": [
    "print(clf.intercept_)"
   ]
  },
  {
   "cell_type": "code",
   "execution_count": null,
   "metadata": {
    "collapsed": true
   },
   "outputs": [],
   "source": []
  }
 ],
 "metadata": {
  "kernelspec": {
   "display_name": "Python 3",
   "language": "python",
   "name": "python3"
  },
  "language_info": {
   "codemirror_mode": {
    "name": "ipython",
    "version": 3
   },
   "file_extension": ".py",
   "mimetype": "text/x-python",
   "name": "python",
   "nbconvert_exporter": "python",
   "pygments_lexer": "ipython3",
   "version": "3.6.3"
  }
 },
 "nbformat": 4,
 "nbformat_minor": 2
}
